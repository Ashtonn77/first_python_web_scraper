{
 "cells": [
  {
   "cell_type": "code",
   "execution_count": 1,
   "metadata": {},
   "outputs": [],
   "source": [
    "import requests"
   ]
  },
  {
   "cell_type": "code",
   "execution_count": 2,
   "metadata": {},
   "outputs": [],
   "source": [
    "import bs4"
   ]
  },
  {
   "cell_type": "code",
   "execution_count": 4,
   "metadata": {},
   "outputs": [],
   "source": [
    "base_url = 'http://books.toscrape.com/catalogue/page-{}.html'"
   ]
  },
  {
   "cell_type": "code",
   "execution_count": 5,
   "metadata": {},
   "outputs": [
    {
     "data": {
      "text/plain": [
       "'http://books.toscrape.com/catalogue/page-2.html'"
      ]
     },
     "execution_count": 5,
     "metadata": {},
     "output_type": "execute_result"
    }
   ],
   "source": [
    "base_url.format(2)"
   ]
  },
  {
   "cell_type": "code",
   "execution_count": 6,
   "metadata": {},
   "outputs": [],
   "source": [
    "res = requests.get(base_url.format(1))"
   ]
  },
  {
   "cell_type": "code",
   "execution_count": 7,
   "metadata": {},
   "outputs": [],
   "source": [
    "soup = bs4.BeautifulSoup(res.text, 'lxml')"
   ]
  },
  {
   "cell_type": "code",
   "execution_count": 12,
   "metadata": {},
   "outputs": [],
   "source": [
    "products = soup.select('.product_pod')"
   ]
  },
  {
   "cell_type": "code",
   "execution_count": 13,
   "metadata": {},
   "outputs": [],
   "source": [
    "example = products[0]"
   ]
  },
  {
   "cell_type": "code",
   "execution_count": 18,
   "metadata": {},
   "outputs": [
    {
     "data": {
      "text/plain": [
       "[<p class=\"star-rating Three\">\n",
       " <i class=\"icon-star\"></i>\n",
       " <i class=\"icon-star\"></i>\n",
       " <i class=\"icon-star\"></i>\n",
       " <i class=\"icon-star\"></i>\n",
       " <i class=\"icon-star\"></i>\n",
       " </p>]"
      ]
     },
     "execution_count": 18,
     "metadata": {},
     "output_type": "execute_result"
    }
   ],
   "source": [
    "example.select('.star-rating.Three')"
   ]
  },
  {
   "cell_type": "code",
   "execution_count": 24,
   "metadata": {},
   "outputs": [],
   "source": [
    "two_star_titles = []\n",
    "\n",
    "for i in range(1,51):\n",
    "    scrape_url = base_url.format(i)\n",
    "    res = requests.get(scrape_url)\n",
    "    \n",
    "    soup = bs4.BeautifulSoup(res.text, 'lxml')    \n",
    "    books = soup.select('.product_pod')\n",
    "    \n",
    "    for book in books:\n",
    "        if len(book.select('.star-rating.Four')) != 0:\n",
    "            book_title = book.select('a')[1]['title']\n",
    "            two_star_titles.append(book_title)\n",
    "            "
   ]
  },
  {
   "cell_type": "code",
   "execution_count": 25,
   "metadata": {},
   "outputs": [
    {
     "data": {
      "text/plain": [
       "['Sharp Objects',\n",
       " 'The Dirty Little Secrets of Getting Your Dream Job',\n",
       " 'The Boys in the Boat: Nine Americans and Their Epic Quest for Gold at the 1936 Berlin Olympics',\n",
       " \"Shakespeare's Sonnets\",\n",
       " 'Wall and Piece',\n",
       " 'Behind Closed Doors',\n",
       " 'Untitled Collection: Sabbath Poems 2014',\n",
       " 'Unseen City: The Majesty of Pigeons, the Discreet Charm of Snails & Other Wonders of the Urban Wilderness',\n",
       " 'This One Summer',\n",
       " 'The Past Never Ends',\n",
       " 'The Nameless City (The Nameless City #1)',\n",
       " \"The Most Perfect Thing: Inside (and Outside) a Bird's Egg\",\n",
       " 'The Mindfulness and Acceptance Workbook for Anxiety: A Guide to Breaking Free from Anxiety, Phobias, and Worry Using Acceptance and Commitment Therapy',\n",
       " 'The Death of Humanity: and the Case for Life',\n",
       " 'Spark Joy: An Illustrated Master Class on the Art of Organizing and Tidying Up',\n",
       " 'Outcast, Vol. 1: A Darkness Surrounds Him (Outcast #1)',\n",
       " 'Mama Tried: Traditional Italian Cooking for the Screwed, Crude, Vegan, and Tattooed',\n",
       " 'In the Country We Love: My Family Divided',\n",
       " 'First and First (Five Boroughs #3)',\n",
       " 'Danganronpa Volume 1',\n",
       " 'Codename Baboushka, Volume 1: The Conclave of Death',\n",
       " 'Camp Midnight',\n",
       " 'A Fierce and Subtle Poison',\n",
       " 'You Are What You Love: The Spiritual Power of Habit',\n",
       " \"William Shakespeare's Star Wars: Verily, A New Hope (William Shakespeare's Star Wars #4)\",\n",
       " 'The White Cat and the Monk: A Retelling of the Poem â\\x80\\x9cPangur BÃ¡nâ\\x80\\x9d',\n",
       " 'The Vacationers',\n",
       " 'The Stranger',\n",
       " 'The Secret (The Secret #1)',\n",
       " 'The Murder of Roger Ackroyd (Hercule Poirot #4)',\n",
       " 'The Kite Runner',\n",
       " 'Something More Than This',\n",
       " 'Poems That Make Grown Women Cry',\n",
       " 'I Had a Nice Time And Other Lies...: How to find love & sh*t like that',\n",
       " 'Full Moon over Noahâ\\x80\\x99s Ark: An Odyssey to Mount Ararat and Beyond',\n",
       " 'Fables, Vol. 1: Legends in Exile (Fables #1)',\n",
       " 'Eureka Trivia 6.0',\n",
       " 'Drive: The Surprising Truth About What Motivates Us',\n",
       " 'Close to You',\n",
       " 'Anonymous',\n",
       " 'Wonder Woman: Earth One, Volume One (Wonder Woman: Earth One #1)',\n",
       " 'Why the Right Went Wrong: Conservatism--From Goldwater to the Tea Party and Beyond',\n",
       " 'Whole Lotta Creativity Going On: 60 Fun and Unusual Exercises to Awaken and Strengthen Your Creativity',\n",
       " 'V for Vendetta (V for Vendetta Complete)',\n",
       " 'The Wright Brothers',\n",
       " 'The Testament of Mary',\n",
       " 'The Marriage of Opposites',\n",
       " 'The Bane Chronicles (The Bane Chronicles #1-11)',\n",
       " 'Sorting the Beef from the Bull: The Science of Food Fraud Forensics',\n",
       " 'So Cute It Hurts!!, Vol. 6 (So Cute It Hurts!! #6)',\n",
       " 'Shtum',\n",
       " 'salt.',\n",
       " 'Living Leadership by Insight: A Good Leader Achieves, a Great Leader Builds Monuments',\n",
       " \"I Know What I'm Doing -- and Other Lies I Tell Myself: Dispatches from a Life Under Construction\",\n",
       " 'I Am Pilgrim (Pilgrim #1)',\n",
       " 'Far & Away: Places on the Brink of Change: Seven Continents, Twenty-Five Years',\n",
       " 'Eight Hundred Grapes',\n",
       " 'Code Name Verity (Code Name Verity #1)',\n",
       " 'City of Glass (The Mortal Instruments #3)',\n",
       " 'City of Fallen Angels (The Mortal Instruments #4)',\n",
       " 'Cell',\n",
       " 'Buying In: The Secret Dialogue Between What We Buy and Who We Are',\n",
       " 'Aristotle and Dante Discover the Secrets of the Universe (Aristotle and Dante Discover the Secrets of the Universe #1)',\n",
       " 'Rook',\n",
       " 'The Gray Rhino: How to Recognize and Act on the Obvious Dangers We Ignore',\n",
       " 'Raspberry Pi Electronics Projects for the Evil Genius',\n",
       " 'One with You (Crossfire #5)',\n",
       " 'No Love Allowed (Dodge Cove #1)',\n",
       " 'Murder at the 42nd Street Library (Raymond Ambler #1)',\n",
       " 'Furiously Happy: A Funny Book About Horrible Things',\n",
       " 'Dirty (Dive Bar #1)',\n",
       " 'A Paris Apartment',\n",
       " 'The Sleep Revolution: Transforming Your Life, One Night at a Time',\n",
       " 'Keep Me Posted',\n",
       " 'Grey (Fifty Shades #4)',\n",
       " 'Exit, Pursued by a Bear',\n",
       " 'Arena',\n",
       " 'Watchmen',\n",
       " 'Unlimited Intuition Now',\n",
       " 'The Moosewood Cookbook: Recipes from Moosewood Restaurant, Ithaca, New York',\n",
       " 'NaNo What Now? Finding your editing process, revising your NaNoWriMo book and building a writing career through publishing and beyond',\n",
       " 'Fruits Basket, Vol. 9 (Fruits Basket #9)',\n",
       " 'Art and Fear: Observations on the Perils (and Rewards) of Artmaking',\n",
       " \"The Midnight Assassin: Panic, Scandal, and the Hunt for America's First Serial Killer\",\n",
       " 'Please Kill Me: The Uncensored Oral History of Punk',\n",
       " 'John Vassos: Industrial Design for Modern Life',\n",
       " 'Hystopia: A Novel',\n",
       " 'History of Beauty',\n",
       " 'Death by Leisure: A Cautionary Tale',\n",
       " 'Between the World and Me',\n",
       " 'Being Mortal: Medicine and What Matters in the End',\n",
       " 'The Whale',\n",
       " 'The Story of Art',\n",
       " 'The Origin of Species',\n",
       " 'The Great Gatsby',\n",
       " 'The Bourne Identity (Jason Bourne #1)',\n",
       " 'The 7 Habits of Highly Effective People: Powerful Lessons in Personal Change',\n",
       " 'Sister Dear',\n",
       " 'Nightstruck: A Novel',\n",
       " 'Life of Pi',\n",
       " 'John Adams',\n",
       " 'How to Cook Everything Vegetarian: Simple Meatless Recipes for Great Food (How to Cook Everything)',\n",
       " 'Delivering the Truth (Quaker Midwife Mystery #1)',\n",
       " 'A Gathering of Shadows (Shades of Magic #2)',\n",
       " 'The Mysterious Affair at Styles (Hercule Poirot #1)',\n",
       " 'The Man Who Mistook His Wife for a Hat and Other Clinical Tales',\n",
       " 'The Joy of Cooking',\n",
       " 'Pride and Prejudice',\n",
       " 'In Cold Blood',\n",
       " 'Fun Home: A Family Tragicomic',\n",
       " 'Fruits Basket, Vol. 6 (Fruits Basket #6)',\n",
       " 'Deception Point',\n",
       " 'Catherine the Great: Portrait of a Woman',\n",
       " 'A Year in Provence (Provence #1)',\n",
       " 'World Without End (The Pillars of the Earth #2)',\n",
       " 'Will Grayson, Will Grayson (Will Grayson, Will Grayson)',\n",
       " 'Where She Went (If I Stay #2)',\n",
       " 'What If?: Serious Scientific Answers to Absurd Hypothetical Questions',\n",
       " 'The Secret Garden',\n",
       " 'The Raven Boys (The Raven Cycle #1)',\n",
       " 'The Hiding Place',\n",
       " 'The Crossover',\n",
       " \"Talking to Girls About Duran Duran: One Young Man's Quest for True Love and a Cooler Haircut\",\n",
       " 'My Mother Was Nuts',\n",
       " 'Lola and the Boy Next Door (Anna and the French Kiss #2)',\n",
       " 'Killing Floor (Jack Reacher #1)',\n",
       " 'Alight (The Generations Trilogy #2)',\n",
       " 'A Feast for Crows (A Song of Ice and Fire #4)',\n",
       " 'Vogue Colors A to Z: A Fashion Coloring Book',\n",
       " 'The Gunning of America: Business and the Making of American Gun Culture',\n",
       " 'Night Shift (Night Shift #1-20)',\n",
       " 'Needful Things',\n",
       " 'Mockingjay (The Hunger Games #3)',\n",
       " 'Little Women (Little Women #1)',\n",
       " 'Harry Potter and the Prisoner of Azkaban (Harry Potter #3)',\n",
       " 'Harry Potter and the Order of the Phoenix (Harry Potter #5)',\n",
       " 'Fruits Basket, Vol. 4 (Fruits Basket #4)',\n",
       " \"'Salem's Lot\",\n",
       " 'The Undomestic Goddess',\n",
       " 'The Rose & the Dagger (The Wrath and the Dawn #2)',\n",
       " 'The Nightingale',\n",
       " 'The Land of 10,000 Madonnas',\n",
       " 'The End of Faith: Religion, Terror, and the Future of Reason',\n",
       " 'The Elegant Universe: Superstrings, Hidden Dimensions, and the Quest for the Ultimate Theory',\n",
       " 'The Demon-Haunted World: Science as a Candle in the Dark',\n",
       " 'The Complete Stories and Poems (The Works of Edgar Allan Poe [Cameo Edition])',\n",
       " 'Seven Brief Lessons on Physics',\n",
       " 'Scarlet (The Lunar Chronicles #2)',\n",
       " 'Running with Scissors',\n",
       " 'Rise of the Rocket Girls: The Women Who Propelled Us, from Missiles to the Moon to Mars',\n",
       " 'Ready Player One',\n",
       " 'Legend (Legend #1)',\n",
       " 'If I Run (If I Run #1)',\n",
       " 'Heir to the Sky',\n",
       " 'Green Eggs and Ham (Beginner Books B-16)',\n",
       " 'Golden (Heart of Dread #3)',\n",
       " 'Fire Bound (Sea Haven/Sisters of the Heart #5)',\n",
       " 'Ash',\n",
       " 'A Walk in the Woods: Rediscovering America on the Appalachian Trail',\n",
       " 'New Moon (Twilight #2)',\n",
       " 'Diary of a Minecraft Zombie Book 1: A Scare of a Dare (An Unofficial Minecraft Book)',\n",
       " 'Y: The Last Man, Vol. 1: Unmanned (Y: The Last Man #1)',\n",
       " 'Twenty Love Poems and a Song of Despair',\n",
       " 'The Story of Hong Gildong',\n",
       " \"The No. 1 Ladies' Detective Agency (No. 1 Ladies' Detective Agency #1)\",\n",
       " 'The Edge of Reason (Bridget Jones #2)',\n",
       " 'The Art of Not Breathing',\n",
       " 'Shadow Rites (Jane Yellowrock #10)',\n",
       " 'Paper Girls, Vol. 1 (Paper Girls #1-5)',\n",
       " 'Myriad (Prentor #1)',\n",
       " 'Ms. Marvel, Vol. 1: No Normal (Ms. Marvel (2014-2015) #1)',\n",
       " 'Lost Among the Living',\n",
       " 'Imperfect Harmony',\n",
       " 'Icing (Aces Hockey #2)',\n",
       " \"Having the Barbarian's Baby (Ice Planet Barbarians #7.5)\",\n",
       " 'Giant Days, Vol. 1 (Giant Days #1-4)',\n",
       " \"Choosing Our Religion: The Spiritual Lives of America's Nones\",\n",
       " 'Bounty (Colorado Mountain #7)',\n",
       " 'Ajin: Demi-Human, Volume 1 (Ajin: Demi-Human #1)']"
      ]
     },
     "execution_count": 25,
     "metadata": {},
     "output_type": "execute_result"
    }
   ],
   "source": [
    "two_star_titles"
   ]
  },
  {
   "cell_type": "code",
   "execution_count": null,
   "metadata": {},
   "outputs": [],
   "source": []
  }
 ],
 "metadata": {
  "kernelspec": {
   "display_name": "Python 3",
   "language": "python",
   "name": "python3"
  },
  "language_info": {
   "codemirror_mode": {
    "name": "ipython",
    "version": 3
   },
   "file_extension": ".py",
   "mimetype": "text/x-python",
   "name": "python",
   "nbconvert_exporter": "python",
   "pygments_lexer": "ipython3",
   "version": "3.7.6"
  }
 },
 "nbformat": 4,
 "nbformat_minor": 4
}
